{
 "cells": [
  {
   "cell_type": "code",
   "execution_count": 1,
   "id": "1bcf5312",
   "metadata": {},
   "outputs": [],
   "source": [
    "%load_ext autoreload\n",
    "%autoreload 2\n",
    "\n",
    "import configparser\n",
    "import os.path\n",
    "from os import path\n",
    "from importlib import reload\n",
    "\n",
    "#Move to directory on colab\n",
    "%cd /content/drive/MyDrive/DeepLearningExperiments/\n",
    "\n",
    "#Set parameters\n",
    "WANDB_enable = False\n",
    "creds_path = \"/content/drive/MyDrive/DeepLearningExperiments/credentials.ini\"\n",
    "root_path = \"\"\n",
    "data_path = \"\"\n",
    "ENV = \"COLAB\" \n",
    "\n",
    "if path.exists(creds_path):\n",
    "  config_parser = configparser.ConfigParser()\n",
    "  config_parser.read(creds_path)\n",
    "  root_path = config_parser['MAIN'][\"PATH_ROOT\"]\n",
    "  data_path = config_parser['MAIN'][\"PATH_DATA\"]\n",
    "  ENV = config_parser['MAIN'][\"ENV\"]\n",
    "\n",
    "if ENV==\"COLAB\":\n",
    "  from google.colab import drive\n",
    "  drive.mount('/content/drive')"
   ]
  },
  {
   "cell_type": "code",
   "execution_count": null,
   "id": "d0e09d31",
   "metadata": {},
   "outputs": [],
   "source": [
    "import subprocess\n",
    "import os\n",
    "from os.path import isfile, join\n",
    "from src.utils import run_command\n",
    "\n",
    "\n",
    "#Swap to project directory\n",
    "old_dir = os.getcwd()\n",
    "\n",
    "#move to shell script folders to initialize datasets\n",
    "os.chdir(\"/content/drive/MyDrive/DeepLearningExperiments/datasets/sh_scripts\")\n",
    "\n",
    "new_path = os.getcwd()\n",
    "files = [join(new_path, file) for file in os.listdir(mypath) if isfile(join(new_path, file))]\n",
    "\n",
    "for file in files:\n",
    "    run_command(f\"bash {file}\")\n",
    "\n",
    "#move back to the old dir\n",
    "os.chdir(old_dir)\n",
    "\n"
   ]
  },
  {
   "cell_type": "code",
   "execution_count": 2,
   "id": "9b542142",
   "metadata": {},
   "outputs": [
    {
     "name": "stdout",
     "output_type": "stream",
     "text": [
      "/home/guilherme/Documents/repos/DeepLearningExperiments\n"
     ]
    }
   ],
   "source": [
    "cd {root_path}"
   ]
  },
  {
   "cell_type": "code",
   "execution_count": 6,
   "id": "9f6ea914",
   "metadata": {},
   "outputs": [],
   "source": [
    "#imports:\n",
    "#import sklearn\n",
    "#import numpy as np\n",
    "\n",
    "from src import utils as utils\n",
    "from src import main as main\n"
   ]
  },
  {
   "cell_type": "code",
   "execution_count": 8,
   "id": "fd1d3865",
   "metadata": {},
   "outputs": [
    {
     "name": "stdout",
     "output_type": "stream",
     "text": [
      "Hello world Guilherme!\n"
     ]
    }
   ],
   "source": [
    "print(utils.hello(\"Guilherme\"))"
   ]
  },
  {
   "cell_type": "code",
   "execution_count": 7,
   "id": "ef74c90b",
   "metadata": {},
   "outputs": [
    {
     "data": {
      "text/plain": [
       "'datasets/'"
      ]
     },
     "execution_count": 7,
     "metadata": {},
     "output_type": "execute_result"
    }
   ],
   "source": [
    "data_path"
   ]
  },
  {
   "cell_type": "code",
   "execution_count": null,
   "id": "6c8a6f7b",
   "metadata": {},
   "outputs": [],
   "source": [
    "main.run_experiments(False, True)"
   ]
  }
 ],
 "metadata": {
  "kernelspec": {
   "display_name": "Python 3 (ipykernel)",
   "language": "python",
   "name": "python3"
  },
  "language_info": {
   "codemirror_mode": {
    "name": "ipython",
    "version": 3
   },
   "file_extension": ".py",
   "mimetype": "text/x-python",
   "name": "python",
   "nbconvert_exporter": "python",
   "pygments_lexer": "ipython3",
   "version": "3.10.6"
  }
 },
 "nbformat": 4,
 "nbformat_minor": 5
}
